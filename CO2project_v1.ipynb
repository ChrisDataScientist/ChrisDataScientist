{
  "metadata": {
    "kernelspec": {
      "name": "python",
      "display_name": "Python (Pyodide)",
      "language": "python"
    },
    "language_info": {
      "codemirror_mode": {
        "name": "python",
        "version": 3
      },
      "file_extension": ".py",
      "mimetype": "text/x-python",
      "name": "python",
      "nbconvert_exporter": "python",
      "pygments_lexer": "ipython3",
      "version": "3.8"
    }
  },
  "nbformat_minor": 4,
  "nbformat": 4,
  "cells": [
    {
      "cell_type": "code",
      "source": "import matplotlib.pyplot as plt\n%matplotlib inline\nimport numpy as np\nimport pandas as pd\n\ndf_mother = pd.read_csv(\"df_random.csv\")\ndf = df_mother\n\npd.options.display.max_columns = None",
      "metadata": {
        "trusted": true
      },
      "outputs": [],
      "execution_count": 74
    },
    {
      "cell_type": "code",
      "source": "df.head()",
      "metadata": {
        "trusted": true
      },
      "outputs": [
        {
          "execution_count": 75,
          "output_type": "execute_result",
          "data": {
            "text/plain": "   Unnamed: 0        ID Country                       VFN           Mp  \\\n0     7960101   7701815      DE                       NaN     PSA-OPEL   \n1      970112   3387186      AT       IP-11-TMA-2018-0029      HYUNDAI   \n2     6285154   5745360      DE       IP-04-TSM-2018-0762  SUZUKI POOL   \n3     9117779   9394578      FR  IP-YHY____BE__1118-VF7-0     PSA-OPEL   \n4    11676006  13508686      SE                       NaN    BMW GROUP   \n\n                    Mh                                    Man  \\\n0  AUTOMOBILES PEUGEOT                    AUTOMOBILES PEUGEOT   \n1        HYUNDAI CZECH  HYUNDAI MOTOR MANUFACTURING CZECH SRO   \n2        MAGYAR SUZUKI          MAGYAR SUZUKI CORPORATION LTD   \n3  AUTOMOBILES CITROEN                    AUTOMOBILES CITROEN   \n4               BMW AG            BAYERISCHE MOTOREN WERKE AG   \n\n                                     MMS                  Tan    T     Va  \\\n0                              PEUGEOT F   E2*2007/46*0405*22    L      C   \n1  HYUNDAI MOTOR MANUFACTORING CZECH SRO  e11*2007/46*3807*05  PDE  F5D21   \n2                        MAGYAR SUZUKI H   E4*2007/46*0928*04   LY   DA1S   \n3                    AUTOMOBILES CITROEN   e2*2007/46*0003*59    S   XYHY   \n4            BAYERISCHE MOTOREN WERKE AG   e1*2007/46*1682*04  FMX   YU71   \n\n            Ve       Mk                        Cn  Ct  Cr  r  m (kg)      Mt  \\\n0  YHZR-R2B000  PEUGEOT                       308  M1  M1  1  1394.0  1582.0   \n1       M67AZ1  HYUNDAI                       I30  M1  M1  1  1415.0  1489.0   \n2        MT2/L   SUZUKI                    VITARA  M1  M1  1  1195.0  1352.0   \n3        P/BAS  CITROEN                        C3  M1  M1  1  1165.0  1287.0   \n4     CAW50000     MINI  COUNTRYMAN COOPER SE ALL  M1  M1  1  1760.0  1905.0   \n\n   Enedc (g/km)  Ewltp (g/km)  W (mm)  At1 (mm)  At2 (mm)               Ft Fm  \\\n0         102.0         137.0  2730.0    1565.0    1560.0           diesel  M   \n1         105.0         117.0  2650.0    1573.0    1581.0           diesel  M   \n2         131.0         146.0  2500.0    1535.0    1505.0           petrol  M   \n3          85.0         115.0  2539.0    1483.0    1483.0           diesel  M   \n4          56.0          71.0  2670.0    1563.0    1565.0  petrol/electric  P   \n\n   ec (cm3)  ep (KW)  z (Wh/km)   IT  Ernedc (g/km)  Erwltp (g/km)  De   Vf  \\\n0    1499.0     96.0        NaN  NaN            NaN            NaN NaN  NaN   \n1    1598.0     85.0        NaN  NaN            NaN            NaN NaN  0.0   \n2    1373.0    103.0        NaN  NaN            NaN            NaN NaN  NaN   \n3    1499.0     75.0        NaN  NaN            NaN            NaN NaN  NaN   \n4    1499.0    100.0      139.0  NaN            NaN            NaN NaN  NaN   \n\n  Status  year  Date of registration  Fuel consumption   Electric range (km)  \n0      P  2019                   NaN                NaN                  NaN  \n1      P  2019                   NaN                NaN                  NaN  \n2      P  2019                   NaN                NaN                  NaN  \n3      P  2019                   NaN                NaN                  NaN  \n4      P  2019                   NaN                NaN                  NaN  ",
            "text/html": "<div>\n<style scoped>\n    .dataframe tbody tr th:only-of-type {\n        vertical-align: middle;\n    }\n\n    .dataframe tbody tr th {\n        vertical-align: top;\n    }\n\n    .dataframe thead th {\n        text-align: right;\n    }\n</style>\n<table border=\"1\" class=\"dataframe\">\n  <thead>\n    <tr style=\"text-align: right;\">\n      <th></th>\n      <th>Unnamed: 0</th>\n      <th>ID</th>\n      <th>Country</th>\n      <th>VFN</th>\n      <th>Mp</th>\n      <th>Mh</th>\n      <th>Man</th>\n      <th>MMS</th>\n      <th>Tan</th>\n      <th>T</th>\n      <th>Va</th>\n      <th>Ve</th>\n      <th>Mk</th>\n      <th>Cn</th>\n      <th>Ct</th>\n      <th>Cr</th>\n      <th>r</th>\n      <th>m (kg)</th>\n      <th>Mt</th>\n      <th>Enedc (g/km)</th>\n      <th>Ewltp (g/km)</th>\n      <th>W (mm)</th>\n      <th>At1 (mm)</th>\n      <th>At2 (mm)</th>\n      <th>Ft</th>\n      <th>Fm</th>\n      <th>ec (cm3)</th>\n      <th>ep (KW)</th>\n      <th>z (Wh/km)</th>\n      <th>IT</th>\n      <th>Ernedc (g/km)</th>\n      <th>Erwltp (g/km)</th>\n      <th>De</th>\n      <th>Vf</th>\n      <th>Status</th>\n      <th>year</th>\n      <th>Date of registration</th>\n      <th>Fuel consumption</th>\n      <th>Electric range (km)</th>\n    </tr>\n  </thead>\n  <tbody>\n    <tr>\n      <th>0</th>\n      <td>7960101</td>\n      <td>7701815</td>\n      <td>DE</td>\n      <td>NaN</td>\n      <td>PSA-OPEL</td>\n      <td>AUTOMOBILES PEUGEOT</td>\n      <td>AUTOMOBILES PEUGEOT</td>\n      <td>PEUGEOT F</td>\n      <td>E2*2007/46*0405*22</td>\n      <td>L</td>\n      <td>C</td>\n      <td>YHZR-R2B000</td>\n      <td>PEUGEOT</td>\n      <td>308</td>\n      <td>M1</td>\n      <td>M1</td>\n      <td>1</td>\n      <td>1394.0</td>\n      <td>1582.0</td>\n      <td>102.0</td>\n      <td>137.0</td>\n      <td>2730.0</td>\n      <td>1565.0</td>\n      <td>1560.0</td>\n      <td>diesel</td>\n      <td>M</td>\n      <td>1499.0</td>\n      <td>96.0</td>\n      <td>NaN</td>\n      <td>NaN</td>\n      <td>NaN</td>\n      <td>NaN</td>\n      <td>NaN</td>\n      <td>NaN</td>\n      <td>P</td>\n      <td>2019</td>\n      <td>NaN</td>\n      <td>NaN</td>\n      <td>NaN</td>\n    </tr>\n    <tr>\n      <th>1</th>\n      <td>970112</td>\n      <td>3387186</td>\n      <td>AT</td>\n      <td>IP-11-TMA-2018-0029</td>\n      <td>HYUNDAI</td>\n      <td>HYUNDAI CZECH</td>\n      <td>HYUNDAI MOTOR MANUFACTURING CZECH SRO</td>\n      <td>HYUNDAI MOTOR MANUFACTORING CZECH SRO</td>\n      <td>e11*2007/46*3807*05</td>\n      <td>PDE</td>\n      <td>F5D21</td>\n      <td>M67AZ1</td>\n      <td>HYUNDAI</td>\n      <td>I30</td>\n      <td>M1</td>\n      <td>M1</td>\n      <td>1</td>\n      <td>1415.0</td>\n      <td>1489.0</td>\n      <td>105.0</td>\n      <td>117.0</td>\n      <td>2650.0</td>\n      <td>1573.0</td>\n      <td>1581.0</td>\n      <td>diesel</td>\n      <td>M</td>\n      <td>1598.0</td>\n      <td>85.0</td>\n      <td>NaN</td>\n      <td>NaN</td>\n      <td>NaN</td>\n      <td>NaN</td>\n      <td>NaN</td>\n      <td>0.0</td>\n      <td>P</td>\n      <td>2019</td>\n      <td>NaN</td>\n      <td>NaN</td>\n      <td>NaN</td>\n    </tr>\n    <tr>\n      <th>2</th>\n      <td>6285154</td>\n      <td>5745360</td>\n      <td>DE</td>\n      <td>IP-04-TSM-2018-0762</td>\n      <td>SUZUKI POOL</td>\n      <td>MAGYAR SUZUKI</td>\n      <td>MAGYAR SUZUKI CORPORATION LTD</td>\n      <td>MAGYAR SUZUKI H</td>\n      <td>E4*2007/46*0928*04</td>\n      <td>LY</td>\n      <td>DA1S</td>\n      <td>MT2/L</td>\n      <td>SUZUKI</td>\n      <td>VITARA</td>\n      <td>M1</td>\n      <td>M1</td>\n      <td>1</td>\n      <td>1195.0</td>\n      <td>1352.0</td>\n      <td>131.0</td>\n      <td>146.0</td>\n      <td>2500.0</td>\n      <td>1535.0</td>\n      <td>1505.0</td>\n      <td>petrol</td>\n      <td>M</td>\n      <td>1373.0</td>\n      <td>103.0</td>\n      <td>NaN</td>\n      <td>NaN</td>\n      <td>NaN</td>\n      <td>NaN</td>\n      <td>NaN</td>\n      <td>NaN</td>\n      <td>P</td>\n      <td>2019</td>\n      <td>NaN</td>\n      <td>NaN</td>\n      <td>NaN</td>\n    </tr>\n    <tr>\n      <th>3</th>\n      <td>9117779</td>\n      <td>9394578</td>\n      <td>FR</td>\n      <td>IP-YHY____BE__1118-VF7-0</td>\n      <td>PSA-OPEL</td>\n      <td>AUTOMOBILES CITROEN</td>\n      <td>AUTOMOBILES CITROEN</td>\n      <td>AUTOMOBILES CITROEN</td>\n      <td>e2*2007/46*0003*59</td>\n      <td>S</td>\n      <td>XYHY</td>\n      <td>P/BAS</td>\n      <td>CITROEN</td>\n      <td>C3</td>\n      <td>M1</td>\n      <td>M1</td>\n      <td>1</td>\n      <td>1165.0</td>\n      <td>1287.0</td>\n      <td>85.0</td>\n      <td>115.0</td>\n      <td>2539.0</td>\n      <td>1483.0</td>\n      <td>1483.0</td>\n      <td>diesel</td>\n      <td>M</td>\n      <td>1499.0</td>\n      <td>75.0</td>\n      <td>NaN</td>\n      <td>NaN</td>\n      <td>NaN</td>\n      <td>NaN</td>\n      <td>NaN</td>\n      <td>NaN</td>\n      <td>P</td>\n      <td>2019</td>\n      <td>NaN</td>\n      <td>NaN</td>\n      <td>NaN</td>\n    </tr>\n    <tr>\n      <th>4</th>\n      <td>11676006</td>\n      <td>13508686</td>\n      <td>SE</td>\n      <td>NaN</td>\n      <td>BMW GROUP</td>\n      <td>BMW AG</td>\n      <td>BAYERISCHE MOTOREN WERKE AG</td>\n      <td>BAYERISCHE MOTOREN WERKE AG</td>\n      <td>e1*2007/46*1682*04</td>\n      <td>FMX</td>\n      <td>YU71</td>\n      <td>CAW50000</td>\n      <td>MINI</td>\n      <td>COUNTRYMAN COOPER SE ALL</td>\n      <td>M1</td>\n      <td>M1</td>\n      <td>1</td>\n      <td>1760.0</td>\n      <td>1905.0</td>\n      <td>56.0</td>\n      <td>71.0</td>\n      <td>2670.0</td>\n      <td>1563.0</td>\n      <td>1565.0</td>\n      <td>petrol/electric</td>\n      <td>P</td>\n      <td>1499.0</td>\n      <td>100.0</td>\n      <td>139.0</td>\n      <td>NaN</td>\n      <td>NaN</td>\n      <td>NaN</td>\n      <td>NaN</td>\n      <td>NaN</td>\n      <td>P</td>\n      <td>2019</td>\n      <td>NaN</td>\n      <td>NaN</td>\n      <td>NaN</td>\n    </tr>\n  </tbody>\n</table>\n</div>"
          },
          "metadata": {}
        }
      ],
      "execution_count": 75
    },
    {
      "cell_type": "code",
      "source": "df[\"Cn\"].value_counts()",
      "metadata": {
        "trusted": true
      },
      "outputs": [
        {
          "execution_count": 38,
          "output_type": "execute_result",
          "data": {
            "text/plain": "GOLF                            3440\nCLIO                            3166\nTIGUAN                          2245\n208                             2188\nPOLO                            2184\n                                ... \n488                                1\nTOUAREG V6 R-LINE TECH TSI A       1\nA3 Sportback g-tron                1\nH-1 STAREX                         1\nXC60 MOMENTUM PRO D4 AUTO          1\nName: Cn, Length: 5411, dtype: int64"
          },
          "metadata": {}
        }
      ],
      "execution_count": 38
    },
    {
      "cell_type": "code",
      "source": "df[\"Mk\"].value_counts()",
      "metadata": {
        "trusted": true
      },
      "outputs": [
        {
          "execution_count": 39,
          "output_type": "execute_result",
          "data": {
            "text/plain": "RENAULT                  10745\nPEUGEOT                   9956\nFORD                      9728\nVOLKSWAGEN                8013\nVOLKSWAGEN VW             7885\n                         ...  \nCATERHAM                     1\nMERCEDESAMG                  1\nDONKERVOORT                  1\nVOLKSWAGEN MOTORSPORT        1\nVOSCO                        1\nName: Mk, Length: 136, dtype: int64"
          },
          "metadata": {}
        }
      ],
      "execution_count": 39
    },
    {
      "cell_type": "code",
      "source": "df[\"Mh\"].value_counts()",
      "metadata": {
        "trusted": true
      },
      "outputs": [
        {
          "execution_count": 40,
          "output_type": "execute_result",
          "data": {
            "text/plain": "VOLKSWAGEN         17253\nRENAULT            12622\nBMW AG              9796\nDAIMLER AG          9749\nFORD WERKE GMBH     9439\n                   ...  \nE-GO                   2\nDONKERVOORT            1\nCATERHAM               1\nANHUI                  1\nADIDOR                 1\nName: Mh, Length: 76, dtype: int64"
          },
          "metadata": {}
        }
      ],
      "execution_count": 40
    },
    {
      "cell_type": "code",
      "source": "df = df.rename({\"Mh\": \"Manufacturer\", \"W (mm)\": \"Wheel_Base\", \"At1 (mm)\": \"Axle_Width\", \"Ft\": \"Fuel_Type\", \"Fm\": \"Fuel_Mode\", \"ec (cm3)\": \"Eng_Capacity\", \"ep (KW)\": \"Eng_Power\", \"z (Wh/km)\": \"Electric_Consum\", \"Enedc (g/km)\": \"CO2\"}, axis=1)",
      "metadata": {
        "trusted": true
      },
      "outputs": [],
      "execution_count": 67
    },
    {
      "cell_type": "code",
      "source": "df = df.drop([\"Unnamed: 0\", \"VFN\", \"Mp\",\"Man\",\"MMS\", \"Tan\", \"T\", \"Va\", \"Ve\", \"Mk\", \"Cn\", \"Ct\"], axis=1)",
      "metadata": {
        "trusted": true
      },
      "outputs": [],
      "execution_count": 43
    },
    {
      "cell_type": "code",
      "source": "df = df.drop([\"Cr\", \"r\", \"Ewltp (g/km)\", \"At2 (mm)\", \"De\", \"Vf\", \"Status\", \"Electric range (km)\"], axis=1)",
      "metadata": {
        "trusted": true
      },
      "outputs": [],
      "execution_count": 45
    },
    {
      "cell_type": "code",
      "source": "df = df.drop([\"Date of registration\", \"Fuel consumption \"], axis=1)",
      "metadata": {
        "trusted": true
      },
      "outputs": [],
      "execution_count": null
    },
    {
      "cell_type": "code",
      "source": "display(df.info())",
      "metadata": {
        "trusted": true
      },
      "outputs": [
        {
          "name": "stdout",
          "text": "<class 'pandas.core.frame.DataFrame'>\nRangeIndex: 154997 entries, 0 to 154996\nData columns (total 16 columns):\n #   Column           Non-Null Count   Dtype  \n---  ------           --------------   -----  \n 0   Country          154997 non-null  object \n 1   Manufacturer     154997 non-null  object \n 2   m (kg)           154997 non-null  float64\n 3   Mt               139554 non-null  float64\n 4   CO2              154390 non-null  float64\n 5   Wheel_Base       154837 non-null  float64\n 6   Axle_Width       154643 non-null  float64\n 7   Fuel_Type        154997 non-null  object \n 8   Fuel_Mode        154996 non-null  object \n 9   Eng_Capacity     151499 non-null  float64\n 10  Eng_Power        132016 non-null  float64\n 11  Electric_consum  3133 non-null    float64\n 12  IT               18918 non-null   object \n 13  Ernedc (g/km)    17924 non-null   float64\n 14  Erwltp (g/km)    82 non-null      float64\n 15  year             154997 non-null  int64  \ndtypes: float64(10), int64(1), object(5)\nmemory usage: 16.0+ MB\n",
          "output_type": "stream"
        },
        {
          "output_type": "display_data",
          "data": {
            "text/plain": "None"
          },
          "metadata": {}
        }
      ],
      "execution_count": 69
    },
    {
      "cell_type": "code",
      "source": "# replace \"m (kg)\"  by  \"Mt\"  if m (kg) is NaN (probably NaN because they are equal). rename \"Mass\"\n# DROP Mt , because it relates to WLTP standard, whereas m (kg) relates to NDCD standard.",
      "metadata": {
        "trusted": true
      },
      "outputs": [],
      "execution_count": null
    },
    {
      "cell_type": "code",
      "source": "# \"Erwltp (g/km)\",\"Ernedc (g/km)\" ,\"IT\"   to be made into a dummy  \"ERT\" ",
      "metadata": {
        "trusted": true
      },
      "outputs": [],
      "execution_count": null
    },
    {
      "cell_type": "code",
      "source": "# dont drop ,\"z (Wh/km)\"    is it there for all electric engines?",
      "metadata": {
        "trusted": true
      },
      "outputs": [],
      "execution_count": null
    },
    {
      "cell_type": "code",
      "source": "only M1 , M2",
      "metadata": {
        "trusted": true
      },
      "outputs": [],
      "execution_count": null
    },
    {
      "cell_type": "code",
      "source": "x = df.dropna(axis=0 , how='all' , subset=[\"Electric_consum\"])\nx.head()",
      "metadata": {
        "trusted": true
      },
      "outputs": [
        {
          "execution_count": 70,
          "output_type": "execute_result",
          "data": {
            "text/plain": "    Country Manufacturer  m (kg)      Mt   CO2  Wheel_Base  Axle_Width  \\\n4        SE       BMW AG  1760.0  1905.0  56.0      2670.0      1563.0   \n51       DE   DAIMLER AG  1085.0     NaN   0.0      1873.0      1471.0   \n168      GB        TESLA  1931.0  2047.0   0.0      2875.0      1580.0   \n250      FR        VOLVO  2139.0  2290.0  51.0      2865.0      1653.0   \n317      SE      RENAULT  1575.0  1653.0   0.0      2588.0      1503.0   \n\n           Fuel_Type Fuel_Mode  Eng_Capacity  Eng_Power  Electric_consum   IT  \\\n4    petrol/electric         P        1499.0      100.0            139.0  NaN   \n51          electric         E           NaN       41.0            241.0  NaN   \n168         electric         E           NaN        NaN            160.0  NaN   \n250  petrol/electric         P        1969.0      223.0            156.0  NaN   \n317         electric         E           NaN       80.0            165.0  NaN   \n\n     Ernedc (g/km)  Erwltp (g/km)  year  \n4              NaN            NaN  2019  \n51             NaN            NaN  2019  \n168            NaN            NaN  2019  \n250            NaN            NaN  2019  \n317            NaN            NaN  2019  ",
            "text/html": "<div>\n<style scoped>\n    .dataframe tbody tr th:only-of-type {\n        vertical-align: middle;\n    }\n\n    .dataframe tbody tr th {\n        vertical-align: top;\n    }\n\n    .dataframe thead th {\n        text-align: right;\n    }\n</style>\n<table border=\"1\" class=\"dataframe\">\n  <thead>\n    <tr style=\"text-align: right;\">\n      <th></th>\n      <th>Country</th>\n      <th>Manufacturer</th>\n      <th>m (kg)</th>\n      <th>Mt</th>\n      <th>CO2</th>\n      <th>Wheel_Base</th>\n      <th>Axle_Width</th>\n      <th>Fuel_Type</th>\n      <th>Fuel_Mode</th>\n      <th>Eng_Capacity</th>\n      <th>Eng_Power</th>\n      <th>Electric_consum</th>\n      <th>IT</th>\n      <th>Ernedc (g/km)</th>\n      <th>Erwltp (g/km)</th>\n      <th>year</th>\n    </tr>\n  </thead>\n  <tbody>\n    <tr>\n      <th>4</th>\n      <td>SE</td>\n      <td>BMW AG</td>\n      <td>1760.0</td>\n      <td>1905.0</td>\n      <td>56.0</td>\n      <td>2670.0</td>\n      <td>1563.0</td>\n      <td>petrol/electric</td>\n      <td>P</td>\n      <td>1499.0</td>\n      <td>100.0</td>\n      <td>139.0</td>\n      <td>NaN</td>\n      <td>NaN</td>\n      <td>NaN</td>\n      <td>2019</td>\n    </tr>\n    <tr>\n      <th>51</th>\n      <td>DE</td>\n      <td>DAIMLER AG</td>\n      <td>1085.0</td>\n      <td>NaN</td>\n      <td>0.0</td>\n      <td>1873.0</td>\n      <td>1471.0</td>\n      <td>electric</td>\n      <td>E</td>\n      <td>NaN</td>\n      <td>41.0</td>\n      <td>241.0</td>\n      <td>NaN</td>\n      <td>NaN</td>\n      <td>NaN</td>\n      <td>2019</td>\n    </tr>\n    <tr>\n      <th>168</th>\n      <td>GB</td>\n      <td>TESLA</td>\n      <td>1931.0</td>\n      <td>2047.0</td>\n      <td>0.0</td>\n      <td>2875.0</td>\n      <td>1580.0</td>\n      <td>electric</td>\n      <td>E</td>\n      <td>NaN</td>\n      <td>NaN</td>\n      <td>160.0</td>\n      <td>NaN</td>\n      <td>NaN</td>\n      <td>NaN</td>\n      <td>2019</td>\n    </tr>\n    <tr>\n      <th>250</th>\n      <td>FR</td>\n      <td>VOLVO</td>\n      <td>2139.0</td>\n      <td>2290.0</td>\n      <td>51.0</td>\n      <td>2865.0</td>\n      <td>1653.0</td>\n      <td>petrol/electric</td>\n      <td>P</td>\n      <td>1969.0</td>\n      <td>223.0</td>\n      <td>156.0</td>\n      <td>NaN</td>\n      <td>NaN</td>\n      <td>NaN</td>\n      <td>2019</td>\n    </tr>\n    <tr>\n      <th>317</th>\n      <td>SE</td>\n      <td>RENAULT</td>\n      <td>1575.0</td>\n      <td>1653.0</td>\n      <td>0.0</td>\n      <td>2588.0</td>\n      <td>1503.0</td>\n      <td>electric</td>\n      <td>E</td>\n      <td>NaN</td>\n      <td>80.0</td>\n      <td>165.0</td>\n      <td>NaN</td>\n      <td>NaN</td>\n      <td>NaN</td>\n      <td>2019</td>\n    </tr>\n  </tbody>\n</table>\n</div>"
          },
          "metadata": {}
        }
      ],
      "execution_count": 70
    },
    {
      "cell_type": "code",
      "source": "display(x.info())",
      "metadata": {
        "trusted": true
      },
      "outputs": [
        {
          "name": "stdout",
          "text": "<class 'pandas.core.frame.DataFrame'>\nInt64Index: 3133 entries, 4 to 154938\nData columns (total 16 columns):\n #   Column           Non-Null Count  Dtype  \n---  ------           --------------  -----  \n 0   Country          3133 non-null   object \n 1   Manufacturer     3133 non-null   object \n 2   m (kg)           3133 non-null   float64\n 3   Mt               2629 non-null   float64\n 4   CO2              3133 non-null   float64\n 5   Wheel_Base       3133 non-null   float64\n 6   Axle_Width       3128 non-null   float64\n 7   Fuel_Type        3133 non-null   object \n 8   Fuel_Mode        3133 non-null   object \n 9   Eng_Capacity     1062 non-null   float64\n 10  Eng_Power        2280 non-null   float64\n 11  Electric_consum  3133 non-null   float64\n 12  IT               6 non-null      object \n 13  Ernedc (g/km)    7 non-null      float64\n 14  Erwltp (g/km)    0 non-null      float64\n 15  year             3133 non-null   int64  \ndtypes: float64(10), int64(1), object(5)\nmemory usage: 354.9+ KB\n",
          "output_type": "stream"
        },
        {
          "output_type": "display_data",
          "data": {
            "text/plain": "None"
          },
          "metadata": {}
        }
      ],
      "execution_count": 71
    },
    {
      "cell_type": "code",
      "source": "display(x[\"Fuel_Type\"].unique())",
      "metadata": {
        "trusted": true
      },
      "outputs": [
        {
          "output_type": "display_data",
          "data": {
            "text/plain": "array(['petrol/electric', 'electric', 'diesel/electric', 'petrol',\n       'diesel'], dtype=object)"
          },
          "metadata": {}
        }
      ],
      "execution_count": 73
    },
    {
      "cell_type": "code",
      "source": "# Electric consumption is given for Electric as well as for SOME petrol cars",
      "metadata": {
        "trusted": true
      },
      "outputs": [],
      "execution_count": null
    }
  ]
}